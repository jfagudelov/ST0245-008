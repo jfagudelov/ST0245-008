{
  "nbformat": 4,
  "nbformat_minor": 0,
  "metadata": {
    "colab": {
      "name": "ProyectoX.ipynb",
      "provenance": [],
      "collapsed_sections": [],
      "include_colab_link": true
    },
    "kernelspec": {
      "name": "python3",
      "display_name": "Python 3"
    }
  },
  "cells": [
    {
      "cell_type": "markdown",
      "metadata": {
        "id": "view-in-github",
        "colab_type": "text"
      },
      "source": [
        "<a href=\"https://colab.research.google.com/github/jfagudelov/ST0245-008/blob/master/ProyectoX.ipynb\" target=\"_parent\"><img src=\"https://colab.research.google.com/assets/colab-badge.svg\" alt=\"Open In Colab\"/></a>"
      ]
    },
    {
      "cell_type": "markdown",
      "metadata": {
        "id": "WbEtjfnE7EJ9"
      },
      "source": [
        "Referencias:\n",
        "1. https://towardsdatascience.com/decision-trees-in-machine-learning-641b9c4e8052\n",
        "2. https://www.geeksforgeeks.org/binary-tree-data-structure/\n",
        "3. https://www.geeksforgeeks.org/decision-tree/\n",
        "4. https://medium.com/swlh/making-data-trees-in-python-3a3ceb050cfd\n",
        "5. https://www.educative.io/edpresso/binary-trees-in-python\n",
        "6. https://www.freecodecamp.org/news/all-you-need-to-know-about-tree-data-structures-bceacb85490c/\n",
        "7. https://towardsdatascience.com/decision-tree-from-scratch-in-python-46e99dfea775"
      ]
    },
    {
      "cell_type": "code",
      "metadata": {
        "id": "4yCWA9Ll6v3u"
      },
      "source": [
        "import pandas as pd\n",
        "import numpy as np\n",
        "from sklearn.preprocessing import LabelEncoder\n",
        "from google.colab import drive\n",
        "drive.mount('/content/drive')"
      ],
      "execution_count": null,
      "outputs": []
    },
    {
      "cell_type": "code",
      "metadata": {
        "id": "B3wAB_Xx7ecx"
      },
      "source": [
        ""
      ],
      "execution_count": null,
      "outputs": []
    },
    {
      "cell_type": "code",
      "metadata": {
        "id": "JW17Uv9Q6rCI"
      },
      "source": [
        "T0 = pd.read_csv(\"TEST 0.csv\", sep = \";\")\n",
        "T1 = pd.read_csv(\"TEST 1.csv\", sep = \";\")\n",
        "T2 = pd.read_csv(\"TEST 2.csv\", sep = \";\")\n",
        "T3 = pd.read_csv(\"TEST 3.csv\", sep = \";\")\n",
        "T4 = pd.read_csv(\"TEST 4.csv\", sep = \";\")\n",
        "Tlite = pd.read_csv('TEST lite.csv', sep=\";\")\n",
        "Tr0 = pd.read_csv(\"TRAIN 0.csv\", sep = \";\")\n",
        "Tr1 = pd.read_csv(\"TRAIN 1.csv\", sep = \";\")\n",
        "Tr2 = pd.read_csv(\"TRAIN 2.csv\", sep = \";\")\n",
        "Tr3 = pd.read_csv(\"TRAIN 3.csv\", sep = \";\")\n",
        "Tr4 = pd.read_csv(\"TRAIN 4.csv\", sep = \";\")\n",
        "\n",
        "print(T0.shape)"
      ],
      "execution_count": null,
      "outputs": []
    },
    {
      "cell_type": "code",
      "metadata": {
        "id": "RQK6ozVh7t8g"
      },
      "source": [
        "#"
      ],
      "execution_count": null,
      "outputs": []
    },
    {
      "cell_type": "code",
      "metadata": {
        "id": "GSZSlJPzBDnE"
      },
      "source": [
        "class Question():\n",
        "\n",
        "  def __init__(self, column, value):\n",
        "    self.column = column\n",
        "    self.value = value\n",
        "\n",
        "  def match(self, example):\n",
        "    val = example[self.column]\n",
        "    if is_value(val):\n",
        "      return val >= self.value\n",
        "    else:\n",
        "      return val == self.value\n",
        "  \n",
        "  "
      ],
      "execution_count": null,
      "outputs": []
    },
    {
      "cell_type": "code",
      "metadata": {
        "id": "9dMBjClN6Rhs"
      },
      "source": [
        "def upload_file(file_path):\n",
        "\n",
        "  data_frame = pd.read_csv(file_path, sep = ';')\n",
        "  encoder = LabelEncoder()  \n",
        "  filtro = ['estu_areareside', 'fami_estratovivienda.1', 'fami_nivelsisben']      \n",
        "  "
      ],
      "execution_count": null,
      "outputs": []
    },
    {
      "cell_type": "code",
      "metadata": {
        "id": "zMgT9ig07_Uz"
      },
      "source": [
        "from google.colab import files\n",
        "uploaded = files.upload()"
      ],
      "execution_count": null,
      "outputs": []
    }
  ]
}