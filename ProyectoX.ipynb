{
  "nbformat": 4,
  "nbformat_minor": 0,
  "metadata": {
    "colab": {
      "name": "ProyectoX.ipynb",
      "provenance": [],
      "collapsed_sections": [
        "ykCcZi7AdtG0"
      ],
      "include_colab_link": true
    },
    "kernelspec": {
      "display_name": "Python 3",
      "name": "python3"
    }
  },
  "cells": [
    {
      "cell_type": "markdown",
      "metadata": {
        "id": "view-in-github",
        "colab_type": "text"
      },
      "source": [
        "<a href=\"https://colab.research.google.com/github/jfagudelov/ST0245-008/blob/master/ProyectoX.ipynb\" target=\"_parent\"><img src=\"https://colab.research.google.com/assets/colab-badge.svg\" alt=\"Open In Colab\"/></a>"
      ]
    },
    {
      "cell_type": "markdown",
      "metadata": {
        "id": "WbEtjfnE7EJ9"
      },
      "source": [
        "Referencias:\n",
        "1. https://towardsdatascience.com/decision-trees-in-machine-learning-641b9c4e8052\n",
        "2. https://www.geeksforgeeks.org/binary-tree-data-structure/\n",
        "3. https://www.geeksforgeeks.org/decision-tree/\n",
        "4. https://medium.com/swlh/making-data-trees-in-python-3a3ceb050cfd\n",
        "5. https://www.educative.io/edpresso/binary-trees-in-python\n",
        "6. https://www.freecodecamp.org/news/all-you-need-to-know-about-tree-data-structures-bceacb85490c/\n",
        "7. https://towardsdatascience.com/decision-tree-from-scratch-in-python-46e99dfea775"
      ]
    },
    {
      "cell_type": "code",
      "metadata": {
        "id": "4yCWA9Ll6v3u"
      },
      "source": [
        "import pandas as pd\n",
        "import matplotlib.pyplot as plt\n",
        "import seaborn as sb\n",
        "import random as rd\n",
        "from time import time"
      ],
      "execution_count": 7,
      "outputs": []
    },
    {
      "cell_type": "code",
      "metadata": {
        "id": "JW17Uv9Q6rCI"
      },
      "source": [
        "'''\n",
        "Here we upload the csv files with the data.\n",
        "'''\n",
        "\n",
        "#T0 = pd.read_csv(\"TEST 0A.csv\", sep = \";\")\n",
        "T1 = pd.read_csv(\"TEST 1.csv\", sep = \";\")\n",
        "#T2 = pd.read_csv(\"TEST 2.csv\", sep = \";\")\n",
        "#T3 = pd.read_csv(\"TEST 3.csv\", sep = \";\")\n",
        "#T4 = pd.read_csv(\"TEST 4.csv\", sep = \";\")\n",
        "Tlite = pd.read_csv('TEST lite.csv', sep=\";\")\n",
        "#Tr0 = pd.read_csv(\"TRAIN 0A.csv\", sep = \";\")\n",
        "#Tr1 = pd.read_csv(\"TRAIN 1.csv\", sep = \";\")\n",
        "#Tr2 = pd.read_csv(\"TRAIN 2.csv\", sep = \";\")\n",
        "#Tr3 = pd.read_csv(\"TRAIN 3.csv\", sep = \";\")\n",
        "#Tr4 = pd.read_csv(\"TRAIN 4.csv\", sep = \";\")\n",
        "\n",
        "#test_data = pd.concat(T0,T1,T2,T3,T4)\n",
        "#training_data = pd.concat(Tr0,Tr1,Tr2,Tr3,Tr4)"
      ],
      "execution_count": null,
      "outputs": []
    },
    {
      "cell_type": "code",
      "metadata": {
        "id": "Wsq1snQj8l0G"
      },
      "source": [
        "# Filter\n",
        "'''\n",
        "This list will help us to filter the columns we intend to use.\n",
        "'''\n",
        "columns_to_use = ['estu_depto_reside.1', 'estu_mcpio_reside.1',\n",
        "                  'fami_estratovivienda.1', 'fami_nivelsisben', \n",
        "                  'cole_depto_ubicacion',\n",
        "                  'punt_lenguaje', 'punt_matematicas',\n",
        "                  'punt_biologia', 'punt_quimica', 'punt_fisica',\n",
        "                  'punt_ciencias_sociales', 'punt_filosofia', 'punt_ingles',\n",
        "                  'desemp_ingles', 'exito']"
      ],
      "execution_count": null,
      "outputs": []
    },
    {
      "cell_type": "markdown",
      "metadata": {
        "id": "ykCcZi7AdtG0"
      },
      "source": [
        "# Data Exploration"
      ]
    },
    {
      "cell_type": "code",
      "metadata": {
        "id": "JPBk2CxpAAbM"
      },
      "source": [
        "Tlite.groupby(pd.Series(Tlite.exito)).agg({'punt_matematicas': 'mean'}).plot()"
      ],
      "execution_count": null,
      "outputs": []
    },
    {
      "cell_type": "code",
      "metadata": {
        "id": "FXMHMx_iBBHS"
      },
      "source": [
        "Tlite.groupby(pd.Series(Tlite.exito)).agg({'punt_filosofia': 'mean'}).plot()"
      ],
      "execution_count": null,
      "outputs": []
    },
    {
      "cell_type": "code",
      "metadata": {
        "id": "CjWKDCxKB4jP"
      },
      "source": [
        "Tlite.groupby(pd.Series(Tlite.exito)).agg({'punt_quimica': 'mean'}).plot(kind='bar')"
      ],
      "execution_count": null,
      "outputs": []
    },
    {
      "cell_type": "code",
      "metadata": {
        "id": "42cKE2cdCP_w"
      },
      "source": [
        "Tlite.groupby(pd.Series(Tlite.exito)).agg({'punt_matematicas': 'mean'}).plot(kind='bar')"
      ],
      "execution_count": null,
      "outputs": []
    },
    {
      "cell_type": "code",
      "metadata": {
        "id": "8-SSDhRkoRDW"
      },
      "source": [
        "Tlite.rename(columns={'estu_depto_reside.1':'estu_depto_reside'})"
      ],
      "execution_count": null,
      "outputs": []
    },
    {
      "cell_type": "code",
      "metadata": {
        "id": "Qmly0haRuMZS"
      },
      "source": [
        "Tlite.rename(columns={'estu_genero.1':'estu_genero'})"
      ],
      "execution_count": null,
      "outputs": []
    },
    {
      "cell_type": "code",
      "metadata": {
        "id": "mRXqBuDaD_lc"
      },
      "source": [
        "Tlite0 = Tlite[Tlite['exito'] == 0] "
      ],
      "execution_count": null,
      "outputs": []
    },
    {
      "cell_type": "code",
      "metadata": {
        "id": "OlrDbgj9Fkh0"
      },
      "source": [
        "Tlite1 = Tlite[Tlite['exito'] == 1]     "
      ],
      "execution_count": null,
      "outputs": []
    },
    {
      "cell_type": "markdown",
      "metadata": {
        "id": "BkbGp4Vedmk2"
      },
      "source": [
        "# Construction methods"
      ]
    },
    {
      "cell_type": "code",
      "metadata": {
        "id": "KMi-IlS96R_5"
      },
      "source": [
        "'''\n",
        "This method returns a new dataframe without nan values\n",
        "and with the columns defined in columns_to_use.\n",
        "'''\n",
        "\n",
        "def filter_df(df, columns_to_use):\n",
        "  df.dropna(how='all',axis=0, inplace=True)\n",
        "  new_df = df.loc[:, columns_to_use]\n",
        "  return new_df"
      ],
      "execution_count": null,
      "outputs": []
    },
    {
      "cell_type": "code",
      "metadata": {
        "id": "hwzYJW6uPhBK"
      },
      "source": [
        "filtered_df = filter_df(Tlite, columns_to_use ) "
      ],
      "execution_count": null,
      "outputs": []
    },
    {
      "cell_type": "code",
      "metadata": {
        "id": "FeK1nzQI66pw"
      },
      "source": [
        "def is_value(value):\n",
        "  ''' \n",
        "  This method verifies if a value is an int or float.\n",
        "  '''\n",
        "  return isinstance(value, int) or isinstance(value, float)"
      ],
      "execution_count": null,
      "outputs": []
    },
    {
      "cell_type": "code",
      "metadata": {
        "id": "fKNnVos5J4at"
      },
      "source": [
        "def class_counts(df):\n",
        "  '''\n",
        "  This methods returns a dictionary with\n",
        "  the number of successess and fails in a dataframe.\n",
        "  '''\n",
        "  labels = {}\n",
        "  for value in df.loc[:, 'exito']:\n",
        "    if value not in labels:\n",
        "      labels[value] = 0\n",
        "    labels[value] += 1\n",
        "  return labels\n",
        "\n",
        "class_counts(a[1])"
      ],
      "execution_count": null,
      "outputs": []
    },
    {
      "cell_type": "code",
      "metadata": {
        "id": "GSZSlJPzBDnE"
      },
      "source": [
        "class Question():\n",
        "  '''\n",
        "  This class creates the questions for the tree nodes.\n",
        "  '''\n",
        "  def __init__(self, column, value):\n",
        "    self.column = column\n",
        "    self.value = value\n",
        "  \n",
        "\n",
        "  '''\n",
        "  This method verifies if a value is true or not\n",
        "  to the condition of a question.\n",
        "  '''\n",
        "  def match(self, val):\n",
        "    if is_value(val):\n",
        "      return val >= self.value\n",
        "    else:\n",
        "      return val == self.value\n",
        "  \n",
        "  def __repr__(self):\n",
        "    condition = '=='\n",
        "    if is_value(self.value):\n",
        "      condition = '>='\n",
        "    return 'Is {} {} {}?'.format(self.column, condition, self.value)"
      ],
      "execution_count": null,
      "outputs": []
    },
    {
      "cell_type": "code",
      "metadata": {
        "id": "8UNd_2StGLOw"
      },
      "source": [
        "'''\n",
        "This method return a true_rows dataframe and a false_rows dataframe,\n",
        "whereas true_rows contains the rows from the original dataframe that\n",
        "are true to the question and false_rows the ones that not.\n",
        "'''\n",
        "\n",
        "def partition(df, question):\n",
        "  true_rows, false_rows = pd.DataFrame(columns=df.columns), pd.DataFrame(columns=df.columns)\n",
        "  for row in range(len(df)):\n",
        "    actual_row = df.loc[row, df.columns].to_dict()\n",
        "    if question.match(df.loc[row, question.column]):\n",
        "      true_rows = true_rows.append(actual_row, ignore_index=True)\n",
        "    else:\n",
        "      false_rows = false_rows.append(actual_row, ignore_index=True)\n",
        "  return true_rows, false_rows\n",
        "\n",
        "partition(filtered_df, Question('punt_ingles', 36.0))"
      ],
      "execution_count": null,
      "outputs": []
    },
    {
      "cell_type": "code",
      "metadata": {
        "id": "oqBqBCxvGLEX"
      },
      "source": [
        "'''\n",
        "This method calculates the Gini impurity of a node.\n",
        "'''\n",
        "\n",
        "def gini(df):\n",
        "  # This method calculates the gini impurity\n",
        "  labels = class_counts(df)\n",
        "  impurity = 1\n",
        "  for value in labels:\n",
        "    probability = labels[value]/len(df)\n",
        "    impurity -= probability**2\n",
        "  return impurity"
      ],
      "execution_count": null,
      "outputs": []
    },
    {
      "cell_type": "code",
      "metadata": {
        "id": "lm7Gy_d8GKqb"
      },
      "source": [
        "'''\n",
        "This method calculates the information gain from the true and false rows.\n",
        "'''\n",
        "\n",
        "def info_gain(left, right): \n",
        "  return ((len(left)*gini(left)+(len(right)*gini(right)))/(len(left)+len(right)))"
      ],
      "execution_count": null,
      "outputs": []
    },
    {
      "cell_type": "code",
      "metadata": {
        "id": "JsEaUrDw3qRN"
      },
      "source": [
        "'''\n",
        "This method finds the best question for a node given its current dataframe.\n",
        "'''\n",
        "\n",
        "def find_best_partition(df):\n",
        "  best_gain = 0\n",
        "  best_question = None\n",
        "\n",
        "  for column in df.columns:\n",
        "    if column == 'exito':\n",
        "      continue\n",
        "    values = [row for row in df.loc[:, column]]\n",
        "    for value in values:\n",
        "\n",
        "      question = Question(column, value)\n",
        "      success_rows, fail_rows = partition(df, question)\n",
        "      if len(success_rows) == 0 or len(fail_rows) == 0:\n",
        "        continue\n",
        "\n",
        "      gain = info_gain(success_rows, fail_rows)\n",
        "\n",
        "      if gain >= best_gain:\n",
        "        best_gain, best_question = gain, question\n",
        "\n",
        "  return best_gain, best_question"
      ],
      "execution_count": null,
      "outputs": []
    },
    {
      "cell_type": "markdown",
      "metadata": {
        "id": "6tS3Me9vd6vK"
      },
      "source": [
        "# Tree building"
      ]
    },
    {
      "cell_type": "code",
      "metadata": {
        "id": "D7tQuJV47y-c"
      },
      "source": [
        "'''\n",
        "This class will create a leaf for the tree that will contain tree's predictions\n",
        "'''\n",
        "\n",
        "class Leaf():\n",
        "\n",
        "  def __init__(self, df):\n",
        "    self.predictions = class_counts(df)"
      ],
      "execution_count": null,
      "outputs": []
    },
    {
      "cell_type": "code",
      "metadata": {
        "id": "88SQTr6r8JYJ"
      },
      "source": [
        "'''\n",
        "This class will create the nodes of the tree, and will contain the node's\n",
        "true and false branch and it's question.\n",
        "'''\n",
        "\n",
        "class Decision_Node():\n",
        "\n",
        "  def __init__(self, question, true_branch, false_branch):\n",
        "      self.question = question\n",
        "      self.true_branch = true_branch\n",
        "      self.false_branch = false_branch"
      ],
      "execution_count": null,
      "outputs": []
    },
    {
      "cell_type": "markdown",
      "metadata": {
        "id": "IrnUJh4mlhKp"
      },
      "source": [
        "This tree will be built recursively, finding for each new node (including the initial node) the best question to create the next child nodes. This will be done until the information gain of a node is 0, then will be a leaf and recursion ends."
      ]
    },
    {
      "cell_type": "code",
      "metadata": {
        "id": "I5D4zupznC0g"
      },
      "source": [
        "def build_tree(df):\n",
        "  gain, question = find_best_partition(df)\n",
        "  print(gain, question)\n",
        "  if gain == 0:\n",
        "    return Leaf(df)\n",
        "  true_r, false_r = partition(df, question)\n",
        "  print(true_r, false_r)\n",
        "  true_b = build_tree(true_r)\n",
        "  false_b = build_tree(false_r)\n",
        "  return Decision_Node(question, true_b, false_b)"
      ],
      "execution_count": 3,
      "outputs": []
    },
    {
      "cell_type": "code",
      "metadata": {
        "id": "-vDySMjOqq0W"
      },
      "source": [
        "class Tree():\n",
        "\n",
        "  def __init__(self, df, inf=0, sup=None):\n",
        "    if inf != 0:\n",
        "      if sup != None:\n",
        "        df = df.loc[inf:sup, df.columns]\n",
        "      else:\n",
        "        df = df.loc[inf:, df.columns]\n",
        "    self.tree = build_tree(df)\n",
        "\n",
        "  '''\n",
        "  This method will be used to predict the success a of a value\n",
        "  '''\n",
        "\n",
        "  def classify(df, node):\n",
        "    if isinstance(node, Leaf):\n",
        "      return node.predictions\n",
        "\n",
        "    if node.question.match(df):\n",
        "      return classify(df, node.true_branch)\n",
        "    else:\n",
        "      return classify(df, node.false_branch)\n",
        "\n",
        "  def print_tree(node, spacing=\"\"):\n",
        "    \"\"\"World's most elegant tree printing function.\"\"\"\n",
        "\n",
        "      # Base case: we've reached a leaf\n",
        "    if isinstance(node, Leaf):\n",
        "      return type(node)\n",
        "\n",
        "      # Print the question at this node\n",
        "    print(spacing + str(node.question))\n",
        "\n",
        "      # Call this function recursively on the true branch\n",
        "    print(spacing + '--> True:')\n",
        "    print_tree(node.true_branch, spacing + \"  \")\n",
        "\n",
        "      # Call this function recursively on the false branch\n",
        "    print(spacing + '--> False:')\n",
        "    print_tree(node.false_branch, spacing + \"  \")"
      ],
      "execution_count": 6,
      "outputs": []
    },
    {
      "cell_type": "code",
      "metadata": {
        "id": "m7gunrbHxUnZ"
      },
      "source": [
        "def random_trees(df, n):\n",
        "  trees = []\n",
        "  success\n",
        "  for n in range(n):\n",
        "    lim_inf, lim_sup = rd.randint(0, len(df)//2), rd.randint(len(df)//2, len(df))\n",
        "    trees.append(Tree(df, lim_inf, lim_sup))\n",
        "  "
      ],
      "execution_count": null,
      "outputs": []
    },
    {
      "cell_type": "markdown",
      "metadata": {
        "id": "Lu8Nn4_cec95"
      },
      "source": [
        "# Testing"
      ]
    },
    {
      "cell_type": "code",
      "metadata": {
        "id": "VRJebFLfrEsB"
      },
      "source": [
        "build_tree(filtered_df)"
      ],
      "execution_count": null,
      "outputs": []
    },
    {
      "cell_type": "code",
      "metadata": {
        "id": "ey3VQ9H-UYpf"
      },
      "source": [
        "print_tree(tree_1)"
      ],
      "execution_count": null,
      "outputs": []
    }
  ]
}